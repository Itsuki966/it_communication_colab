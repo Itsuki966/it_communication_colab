{
  "nbformat": 4,
  "nbformat_minor": 0,
  "metadata": {
    "colab": {
      "provenance": [],
      "authorship_tag": "ABX9TyMWo4K62roC2jrb2N1TS8Ob",
      "include_colab_link": true
    },
    "kernelspec": {
      "name": "python3",
      "display_name": "Python 3"
    },
    "language_info": {
      "name": "python"
    }
  },
  "cells": [
    {
      "cell_type": "markdown",
      "metadata": {
        "id": "view-in-github",
        "colab_type": "text"
      },
      "source": [
        "<a href=\"https://colab.research.google.com/github/Itsuki966/it_communication_kuwa/blob/main/m_league.ipynb\" target=\"_parent\"><img src=\"https://colab.research.google.com/assets/colab-badge.svg\" alt=\"Open In Colab\"/></a>"
      ]
    },
    {
      "cell_type": "code",
      "source": [
        "from google.colab import drive\n",
        "drive.mount('/content/drive')"
      ],
      "metadata": {
        "colab": {
          "base_uri": "https://localhost:8080/"
        },
        "id": "BYpk5u0rklg4",
        "outputId": "7c661598-45c0-4581-9c2a-4158f759c24b"
      },
      "execution_count": 1,
      "outputs": [
        {
          "output_type": "stream",
          "name": "stdout",
          "text": [
            "Mounted at /content/drive\n"
          ]
        }
      ]
    },
    {
      "cell_type": "code",
      "execution_count": 2,
      "metadata": {
        "id": "oSgba5nMkMvQ"
      },
      "outputs": [],
      "source": [
        "import json"
      ]
    },
    {
      "cell_type": "code",
      "source": [
        "# jsonファイルの読み込み\n",
        "with open('/content/drive/MyDrive/2023-2024_paifu/L001_S002_0008_01A.json') as f:\n",
        "  paifu = json.load(f)"
      ],
      "metadata": {
        "id": "zLgV9togkXUa"
      },
      "execution_count": 3,
      "outputs": []
    },
    {
      "cell_type": "markdown",
      "source": [
        "## kyokustartとkyokuendのリスト内での順番を取得"
      ],
      "metadata": {
        "id": "iAxoMkG_REmb"
      }
    },
    {
      "cell_type": "code",
      "source": [
        "kyokustart = []\n",
        "kyokuend = []\n",
        "\n",
        "for i in range(len(paifu)):\n",
        "  c = paifu[i][\"cmd\"]\n",
        "  if c == 'kyokustart':\n",
        "    kyokustart.append(i)\n",
        "  elif c == 'kyokuend':\n",
        "    kyokuend.append(i)"
      ],
      "metadata": {
        "id": "65KhIp0kPTPf"
      },
      "execution_count": 4,
      "outputs": []
    },
    {
      "cell_type": "markdown",
      "source": [
        "# **ゲームスタートまでの準備の関数**"
      ],
      "metadata": {
        "id": "k9DHNMCvjgHK"
      }
    },
    {
      "cell_type": "code",
      "source": [
        "# ゲームスタートまでの準備\n",
        "def game_ready (paifu, kyoku):\n",
        "\n",
        "  tehai = {}\n",
        "  alldict = {}\n",
        "\n",
        "  for i in range(kyokustart[kyoku], kyokuend[kyoku]+1):\n",
        "    cmd = paifu[i]['cmd']\n",
        "\n",
        "    # 親を保存\n",
        "    if cmd == \"dice\":\n",
        "      first_player = paifu[i+2]['args'][0]\n",
        "\n",
        "    # 配牌\n",
        "    elif cmd == \"haipai\":\n",
        "      player = paifu[i]['args'][0]\n",
        "      if player not in tehai:\n",
        "        tehai[player] = [paifu[i]['args'][1][l] + paifu[i]['args'][1][l+1] for l in range(0,len(paifu[i]['args'][1])-1,2)]\n",
        "      else:\n",
        "        if len(paifu[i]['args'][1]) != 2:\n",
        "          for l in range(0, len(paifu[i]['args'][1])-1,2):\n",
        "            pai = paifu[i]['args'][1][l] + paifu[i]['args'][1][l+1]\n",
        "            tehai[player].append(pai)\n",
        "        else:\n",
        "          tehai[player].append(paifu[i]['args'][1])\n",
        "\n",
        "\n",
        "  # 全てを保存する辞書の作成\n",
        "  alldict['tehai'] = tehai[first_player]\n",
        "  alldict['tsumo'] = [0]\n",
        "  alldict['tedashi'] = [0]\n",
        "\n",
        "  alldict['dora'] = [0,0,0,0]\n",
        "  # alldict['naki'] = [0,0,0]\n",
        "  # alldict['richi'] = {\"\"}\n",
        "\n",
        "  # 各プレイヤーごとに捨て牌のリストを作成し、辞書に追加\n",
        "  key = list(tehai.keys())\n",
        "  for k in key:\n",
        "    alldict[k] = {\"sutehai\":[0*s for s in range(1,26)],\"naki\":[[0*i for i in range(1,5)],[0*i for i in range(1,5)],[0*i for i in range(1,5)],[0*i for i in range(1,5)]], \"richi\":[0]}\n",
        "\n",
        "  return tehai, alldict\n"
      ],
      "metadata": {
        "id": "CBreo-3RnGfs"
      },
      "execution_count": 5,
      "outputs": []
    },
    {
      "cell_type": "markdown",
      "source": [
        "# **ゲームの処理用の関数**"
      ],
      "metadata": {
        "id": "WMrNMSyqdJFG"
      }
    },
    {
      "cell_type": "code",
      "source": [
        "def game(paifu, tehai, alldict, kyoku):\n",
        "  naki_count = 0\n",
        "  dora_count = 0\n",
        "  game_data = []\n",
        "\n",
        "  for n in range(kyokustart[kyoku], kyokuend[kyoku]+1):\n",
        "    cmd = paifu[n]['cmd']\n",
        "\n",
        "    # ツモから牌を切るまで\n",
        "    if cmd == \"tsumo\":\n",
        "      player = paifu[n]['args'][0]\n",
        "      tsumo = paifu[n]['args'][2]\n",
        "      alldict['tehai'] = tehai[player]\n",
        "      if paifu[n+1]['cmd'] == 'sutehai':\n",
        "        sutehai = paifu[n+1]['args'][1]\n",
        "        tehai[player].append(tsumo)\n",
        "        tehai[player].remove(sutehai)\n",
        "      elif paifu[n+1]['args'][1] == 'richi':\n",
        "        sutehai = paifu[n+2]['args'][1]\n",
        "        tehai[player].append(tsumo)\n",
        "        tehai[player].remove(sutehai)\n",
        "      elif paifu[n+1]['args'][1] == 'tsumo' or paifu[n+1]['args'][1] == 'ron':\n",
        "        pass\n",
        "      else:\n",
        "        sutehai = 0\n",
        "\n",
        "      alldict['tsumo'][0] = tsumo\n",
        "      alldict['tedashi'][0] = sutehai\n",
        "      alldict[player]['sutehai'].append(sutehai)\n",
        "      del alldict[player]['sutehai'][0]\n",
        "      print(alldict)\n",
        "\n",
        "\n",
        "    elif cmd == \"dora\":\n",
        "      dora = paifu[n]['args'][0]\n",
        "      alldict['dora'][dora_count] = dora\n",
        "      dora_count += 1\n",
        "      print(alldict)\n",
        "\n",
        "\n",
        "    elif cmd == \"agari\":\n",
        "      print(paifu[n]['args'])\n",
        "\n",
        "    elif cmd == \"ryukyoku\":\n",
        "      print(\"流局\")\n",
        "\n",
        "    # 鳴き\n",
        "    elif cmd == \"say\":\n",
        "      say = paifu[n]['args'][1]\n",
        "      player = paifu[n]['args'][0]\n",
        "\n",
        "      if say == 'pon':\n",
        "        pon = paifu[n-1]['args'][1]\n",
        "        sutehai = paifu[n+2]['args'][1]\n",
        "\n",
        "        tehai[player].append(pon)\n",
        "        tehai[player].remove(sutehai)\n",
        "\n",
        "        naki_list = alldict[player]['naki'][naki_count]\n",
        "        print(alldict)\n",
        "\n",
        "        for n in range(0,3):\n",
        "          naki_list[n] = pon\n",
        "\n",
        "        naki_count += 1\n",
        "        alldict['tsumo'][0] = pon\n",
        "        alldict['tedashi'][0] = sutehai\n",
        "        alldict[player]['sutehai'].append(sutehai)\n",
        "        del alldict[player]['sutehai'][0]\n",
        "        print(alldict)\n",
        "\n",
        "\n",
        "      elif say == 'chi':\n",
        "        chi = paifu[n-1]['args'][1]\n",
        "        sutehai = paifu[n+2]['args'][1]\n",
        "        open_pai = paifu[n+1]['args'][1].replace(\"<\",\"\").replace(\">\",\"\")\n",
        "\n",
        "        alldict[player]['naki'][naki_count] = [open_pai[l] + open_pai[l+1] for l in range(0,len(open_pai)-1,2)]\n",
        "        alldict[player]['naki'][naki_count].append(0)\n",
        "\n",
        "        tehai[player].append(chi)\n",
        "        tehai[player].remove(sutehai)\n",
        "\n",
        "        naki_count += 1\n",
        "        alldict['tsumo'][0] = chi\n",
        "        alldict['tedashi'][0] = sutehai\n",
        "        alldict[player]['sutehai'].append(sutehai)\n",
        "        del alldict[player]['sutehai'][0]\n",
        "        print(alldict)\n",
        "\n",
        "\n",
        "      elif say == 'kan':\n",
        "        kan = paifu[n-1]['args'][2]\n",
        "\n",
        "        tehai[player].append(kan)\n",
        "\n",
        "        naki_list = alldict[player]['naki'][naki_count]\n",
        "        for n in range(0,4):\n",
        "          naki_list[n] = kan\n",
        "\n",
        "        naki_count += 1\n",
        "        alldict['tsumo'][0] = kan\n",
        "        print(alldict)\n",
        "\n",
        "\n",
        "      elif say == 'richi':\n",
        "        alldict[player]['richi'][0] = 1\n",
        "        print(alldict)\n",
        "\n",
        "\n"
      ],
      "metadata": {
        "id": "sxC_x8A5Pach"
      },
      "execution_count": 8,
      "outputs": []
    },
    {
      "cell_type": "markdown",
      "source": [
        "# **実行**"
      ],
      "metadata": {
        "id": "y5zKPsYRPcD_"
      }
    },
    {
      "cell_type": "code",
      "source": [
        "for l in range(len(kyokustart)):\n",
        "\n",
        "  tehai, alldict = game_ready(paifu, l)\n",
        "  input_list = game(paifu, tehai, alldict, l)"
      ],
      "metadata": {
        "id": "TouCF-hOCpkU"
      },
      "execution_count": null,
      "outputs": []
    }
  ]
}